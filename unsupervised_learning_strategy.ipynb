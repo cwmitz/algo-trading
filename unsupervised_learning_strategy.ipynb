{
 "cells": [
  {
   "cell_type": "markdown",
   "metadata": {},
   "source": [
    "# Steps\n",
    "\n",
    "- Download/Load SP500 stock prices data\n",
    "- Calculate different features and indicators on each stock\n",
    "- Aggregate on monthly level and filter top 150 most liquid stocks\n",
    "- Calculate monthly returns for different time-horizons\n",
    "- Download Fama-Fetch Factors and calculate rolling factor betas\n",
    "- For each month fit a k-means clustering algorithm to group similar assets based\n",
    "  on their features\n",
    "- For each month select assets based on the cluster and form a portfolio based on\n",
    "  efficinet frontier max sharpe ratio optimization\n",
    "- Visualize portfolio performance and compare with SP500\n"
   ]
  },
  {
   "cell_type": "code",
   "execution_count": 6,
   "metadata": {},
   "outputs": [],
   "source": [
    "from statsmodels.regression.rolling import RollingOLS\n",
    "import pandas_datareader.data as web\n",
    "import matplotlib.pyplot as plt\n",
    "import statsmodels.api as sm\n",
    "import pandas as pd\n",
    "import numpy as np\n",
    "import datetime as dt\n",
    "import yfinance as yf\n",
    "import pandas_ta\n",
    "import warnings\n",
    "\n",
    "warnings.filterwarnings(\"ignore\")"
   ]
  },
  {
   "cell_type": "markdown",
   "metadata": {},
   "source": [
    "## 1. Download/Load SP500 stock prices data\n"
   ]
  },
  {
   "cell_type": "code",
   "execution_count": 7,
   "metadata": {},
   "outputs": [
    {
     "name": "stderr",
     "output_type": "stream",
     "text": [
      "[*********************100%%**********************]  503 of 503 completed\n",
      "\n",
      "3 Failed downloads:\n",
      "['SOLV', 'GEV', 'VLTO']: Exception(\"%ticker%: Data doesn't exist for startDate = 1443326400, endDate = 1695787200\")\n"
     ]
    }
   ],
   "source": [
    "sp500 = pd.read_html(\"https://en.wikipedia.org/wiki/List_of_S%26P_500_companies\")[0]\n",
    "\n",
    "sp500[\"Symbol\"] = sp500[\"Symbol\"].str.replace(\".\", \"-\")\n",
    "\n",
    "symbols_list = sp500[\"Symbol\"].unique().tolist()\n",
    "\n",
    "end_date = \"2023-09-27\"\n",
    "start_date = pd.to_datetime(end_date) - pd.DateOffset(years=8)\n",
    "\n",
    "df = yf.download(tickers=symbols_list, start=start_date, end=end_date).stack()\n",
    "\n",
    "df.index.names = [\"date\", \"ticker\"]\n",
    "\n",
    "df.columns = df.columns.str.lower()"
   ]
  },
  {
   "cell_type": "markdown",
   "metadata": {},
   "source": [
    "## 2. Calculate different features and indicators on each stock\n",
    "- **German-Klass volatility**: Measure of volatility based on high, low, and close prices\n",
    "- **RSI**: Relative Strength Index indicator to measure momentum of a stock\n",
    "- **Bollinger Bands**: Measure of volatility based on standard deviation of the stock\n",
    "- **ATR**: Average True Range indicator to measure volatility of a stock\n",
    "- **MACD**: Moving Average Convergence Divergence indicator to measure momentum of a stock\n",
    "- **Dollar Volume**: Measure of liquidity of a stock"
   ]
  },
  {
   "cell_type": "code",
   "execution_count": 8,
   "metadata": {},
   "outputs": [],
   "source": [
    "df[\"garman_klass_vol\"] = (\n",
    "    ((np.log(df[\"high\"] / df[\"low\"])) ** 2)\n",
    "    - (2 * np.log(2) - 1) * ((np.log(df[\"adj close\"] / df[\"open\"])) ** 2)\n",
    ") / 2\n",
    "\n",
    "df[\"rsi\"] = df.groupby(level=1)[\"adj close\"].transform(\n",
    "    lambda x: pandas_ta.rsi(close=x, length=20)\n",
    ")\n",
    "\n",
    "df[\"bb_low\"] = df.groupby(level=1)[\"adj close\"].transform(\n",
    "    lambda x: (\n",
    "        pandas_ta.bbands(close=x, length=20).iloc[:, 0]\n",
    "        if pandas_ta.bbands(close=x, length=20) is not None\n",
    "        else None\n",
    "    )\n",
    ")\n",
    "\n",
    "df[\"bb_mid\"] = df.groupby(level=1)[\"adj close\"].transform(\n",
    "    lambda x: (\n",
    "        pandas_ta.bbands(close=x, length=20).iloc[:, 1]\n",
    "        if pandas_ta.bbands(close=x, length=20) is not None\n",
    "        else None\n",
    "    )\n",
    ")\n",
    "\n",
    "df[\"bb_high\"] = df.groupby(level=1)[\"adj close\"].transform(\n",
    "    lambda x: (\n",
    "        pandas_ta.bbands(close=x, length=20).iloc[:, 2]\n",
    "        if pandas_ta.bbands(close=x, length=20) is not None\n",
    "        else None\n",
    "    )\n",
    ")"
   ]
  }
 ],
 "metadata": {
  "kernelspec": {
   "display_name": "Python 3",
   "language": "python",
   "name": "python3"
  },
  "language_info": {
   "codemirror_mode": {
    "name": "ipython",
    "version": 3
   },
   "file_extension": ".py",
   "mimetype": "text/x-python",
   "name": "python",
   "nbconvert_exporter": "python",
   "pygments_lexer": "ipython3",
   "version": "3.11.3"
  }
 },
 "nbformat": 4,
 "nbformat_minor": 2
}
